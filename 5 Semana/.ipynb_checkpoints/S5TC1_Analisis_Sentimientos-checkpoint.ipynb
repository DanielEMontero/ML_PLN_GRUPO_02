{
 "cells": [
  {
   "cell_type": "markdown",
   "metadata": {},
   "source": [
    "![image info](https://raw.githubusercontent.com/albahnsen/MIAD_ML_and_NLP/main/images/banner_1.png)"
   ]
  },
  {
   "cell_type": "markdown",
   "metadata": {},
   "source": [
    "# Taller: Análisis de sentimientos y técnicas de NLP\n",
    "\n",
    "En este taller podrán poner en práctica sus conocimientos sobre las diferentes técnicas para el procesamiento de lenguaje natural. El taller está constituido por 5 puntos, en los cuales deberan seguir las intrucciones de cada numeral para su desarrollo."
   ]
  },
  {
   "cell_type": "markdown",
   "metadata": {},
   "source": [
    "## Datos predicción sentimientos de viajeros en Twitter\n",
    "\n",
    "En este taller se usará el conjunto de datos de sentimientos sobre distintas aerolíneas de EE.UU. provenientes de Twitter. Cada observación contiene si el sentimiento de los tweets es positivo, neutral o negativo teniendo en cuenta distintas variables como aerolínea y las razones de los sentimientos negativos (como \"retraso en el vuelo\" o \"servicio grosero\"). El objetivo es predecir el sentimiento asociado a cada tweet. Para más detalles pueden visitar el siguiente enlace: [datos](https://www.kaggle.com/crowdflower/twitter-airline-sentiment)."
   ]
  },
  {
   "cell_type": "code",
   "execution_count": 1,
   "metadata": {},
   "outputs": [],
   "source": [
    "import warnings\n",
    "warnings.filterwarnings('ignore')"
   ]
  },
  {
   "cell_type": "code",
<<<<<<< Updated upstream
   "execution_count": 2,
=======
   "execution_count": null,
>>>>>>> Stashed changes
   "metadata": {},
   "outputs": [],
   "source": [
    "# Importación de librerías\n",
    "import pandas as pd\n",
    "import numpy as np\n",
    "%matplotlib inline\n",
    "import matplotlib.pyplot as plt"
   ]
  },
  {
   "cell_type": "code",
   "execution_count": 3,
   "metadata": {},
   "outputs": [
    {
     "data": {
      "text/html": [
       "<div>\n",
       "<style scoped>\n",
       "    .dataframe tbody tr th:only-of-type {\n",
       "        vertical-align: middle;\n",
       "    }\n",
       "\n",
       "    .dataframe tbody tr th {\n",
       "        vertical-align: top;\n",
       "    }\n",
       "\n",
       "    .dataframe thead th {\n",
       "        text-align: right;\n",
       "    }\n",
       "</style>\n",
       "<table border=\"1\" class=\"dataframe\">\n",
       "  <thead>\n",
       "    <tr style=\"text-align: right;\">\n",
       "      <th></th>\n",
       "      <th>airline_sentiment</th>\n",
       "      <th>airline_sentiment_confidence</th>\n",
       "      <th>negativereason</th>\n",
       "      <th>negativereason_confidence</th>\n",
       "      <th>airline</th>\n",
       "      <th>airline_sentiment_gold</th>\n",
       "      <th>name</th>\n",
       "      <th>negativereason_gold</th>\n",
       "      <th>retweet_count</th>\n",
       "      <th>text</th>\n",
       "      <th>tweet_coord</th>\n",
       "      <th>tweet_created</th>\n",
       "      <th>tweet_location</th>\n",
       "      <th>user_timezone</th>\n",
       "    </tr>\n",
       "    <tr>\n",
       "      <th>tweet_id</th>\n",
       "      <th></th>\n",
       "      <th></th>\n",
       "      <th></th>\n",
       "      <th></th>\n",
       "      <th></th>\n",
       "      <th></th>\n",
       "      <th></th>\n",
       "      <th></th>\n",
       "      <th></th>\n",
       "      <th></th>\n",
       "      <th></th>\n",
       "      <th></th>\n",
       "      <th></th>\n",
       "      <th></th>\n",
       "    </tr>\n",
       "  </thead>\n",
       "  <tbody>\n",
       "    <tr>\n",
       "      <th>570306133677760513</th>\n",
       "      <td>neutral</td>\n",
       "      <td>1.0000</td>\n",
       "      <td>NaN</td>\n",
       "      <td>NaN</td>\n",
       "      <td>Virgin America</td>\n",
       "      <td>NaN</td>\n",
       "      <td>cairdin</td>\n",
       "      <td>NaN</td>\n",
       "      <td>0</td>\n",
       "      <td>@VirginAmerica What @dhepburn said.</td>\n",
       "      <td>NaN</td>\n",
       "      <td>2015-02-24 11:35:52 -0800</td>\n",
       "      <td>NaN</td>\n",
       "      <td>Eastern Time (US &amp; Canada)</td>\n",
       "    </tr>\n",
       "    <tr>\n",
       "      <th>570301130888122368</th>\n",
       "      <td>positive</td>\n",
       "      <td>0.3486</td>\n",
       "      <td>NaN</td>\n",
       "      <td>0.0000</td>\n",
       "      <td>Virgin America</td>\n",
       "      <td>NaN</td>\n",
       "      <td>jnardino</td>\n",
       "      <td>NaN</td>\n",
       "      <td>0</td>\n",
       "      <td>@VirginAmerica plus you've added commercials t...</td>\n",
       "      <td>NaN</td>\n",
       "      <td>2015-02-24 11:15:59 -0800</td>\n",
       "      <td>NaN</td>\n",
       "      <td>Pacific Time (US &amp; Canada)</td>\n",
       "    </tr>\n",
       "    <tr>\n",
       "      <th>570301083672813571</th>\n",
       "      <td>neutral</td>\n",
       "      <td>0.6837</td>\n",
       "      <td>NaN</td>\n",
       "      <td>NaN</td>\n",
       "      <td>Virgin America</td>\n",
       "      <td>NaN</td>\n",
       "      <td>yvonnalynn</td>\n",
       "      <td>NaN</td>\n",
       "      <td>0</td>\n",
       "      <td>@VirginAmerica I didn't today... Must mean I n...</td>\n",
       "      <td>NaN</td>\n",
       "      <td>2015-02-24 11:15:48 -0800</td>\n",
       "      <td>Lets Play</td>\n",
       "      <td>Central Time (US &amp; Canada)</td>\n",
       "    </tr>\n",
       "    <tr>\n",
       "      <th>570301031407624196</th>\n",
       "      <td>negative</td>\n",
       "      <td>1.0000</td>\n",
       "      <td>Bad Flight</td>\n",
       "      <td>0.7033</td>\n",
       "      <td>Virgin America</td>\n",
       "      <td>NaN</td>\n",
       "      <td>jnardino</td>\n",
       "      <td>NaN</td>\n",
       "      <td>0</td>\n",
       "      <td>@VirginAmerica it's really aggressive to blast...</td>\n",
       "      <td>NaN</td>\n",
       "      <td>2015-02-24 11:15:36 -0800</td>\n",
       "      <td>NaN</td>\n",
       "      <td>Pacific Time (US &amp; Canada)</td>\n",
       "    </tr>\n",
       "    <tr>\n",
       "      <th>570300817074462722</th>\n",
       "      <td>negative</td>\n",
       "      <td>1.0000</td>\n",
       "      <td>Can't Tell</td>\n",
       "      <td>1.0000</td>\n",
       "      <td>Virgin America</td>\n",
       "      <td>NaN</td>\n",
       "      <td>jnardino</td>\n",
       "      <td>NaN</td>\n",
       "      <td>0</td>\n",
       "      <td>@VirginAmerica and it's a really big bad thing...</td>\n",
       "      <td>NaN</td>\n",
       "      <td>2015-02-24 11:14:45 -0800</td>\n",
       "      <td>NaN</td>\n",
       "      <td>Pacific Time (US &amp; Canada)</td>\n",
       "    </tr>\n",
       "  </tbody>\n",
       "</table>\n",
       "</div>"
      ],
      "text/plain": [
       "                   airline_sentiment  airline_sentiment_confidence  \\\n",
       "tweet_id                                                             \n",
       "570306133677760513           neutral                        1.0000   \n",
       "570301130888122368          positive                        0.3486   \n",
       "570301083672813571           neutral                        0.6837   \n",
       "570301031407624196          negative                        1.0000   \n",
       "570300817074462722          negative                        1.0000   \n",
       "\n",
       "                   negativereason  negativereason_confidence         airline  \\\n",
       "tweet_id                                                                       \n",
       "570306133677760513            NaN                        NaN  Virgin America   \n",
       "570301130888122368            NaN                     0.0000  Virgin America   \n",
       "570301083672813571            NaN                        NaN  Virgin America   \n",
       "570301031407624196     Bad Flight                     0.7033  Virgin America   \n",
       "570300817074462722     Can't Tell                     1.0000  Virgin America   \n",
       "\n",
       "                   airline_sentiment_gold        name negativereason_gold  \\\n",
       "tweet_id                                                                    \n",
       "570306133677760513                    NaN     cairdin                 NaN   \n",
       "570301130888122368                    NaN    jnardino                 NaN   \n",
       "570301083672813571                    NaN  yvonnalynn                 NaN   \n",
       "570301031407624196                    NaN    jnardino                 NaN   \n",
       "570300817074462722                    NaN    jnardino                 NaN   \n",
       "\n",
       "                    retweet_count  \\\n",
       "tweet_id                            \n",
       "570306133677760513              0   \n",
       "570301130888122368              0   \n",
       "570301083672813571              0   \n",
       "570301031407624196              0   \n",
       "570300817074462722              0   \n",
       "\n",
       "                                                                 text  \\\n",
       "tweet_id                                                                \n",
       "570306133677760513                @VirginAmerica What @dhepburn said.   \n",
       "570301130888122368  @VirginAmerica plus you've added commercials t...   \n",
       "570301083672813571  @VirginAmerica I didn't today... Must mean I n...   \n",
       "570301031407624196  @VirginAmerica it's really aggressive to blast...   \n",
       "570300817074462722  @VirginAmerica and it's a really big bad thing...   \n",
       "\n",
       "                   tweet_coord              tweet_created tweet_location  \\\n",
       "tweet_id                                                                   \n",
       "570306133677760513         NaN  2015-02-24 11:35:52 -0800            NaN   \n",
       "570301130888122368         NaN  2015-02-24 11:15:59 -0800            NaN   \n",
       "570301083672813571         NaN  2015-02-24 11:15:48 -0800      Lets Play   \n",
       "570301031407624196         NaN  2015-02-24 11:15:36 -0800            NaN   \n",
       "570300817074462722         NaN  2015-02-24 11:14:45 -0800            NaN   \n",
       "\n",
       "                                 user_timezone  \n",
       "tweet_id                                        \n",
       "570306133677760513  Eastern Time (US & Canada)  \n",
       "570301130888122368  Pacific Time (US & Canada)  \n",
       "570301083672813571  Central Time (US & Canada)  \n",
       "570301031407624196  Pacific Time (US & Canada)  \n",
       "570300817074462722  Pacific Time (US & Canada)  "
      ]
     },
     "execution_count": 3,
     "metadata": {},
     "output_type": "execute_result"
    }
   ],
   "source": [
    "# Lectura de la información de archivo .zip\n",
    "tweets = pd.read_csv('https://raw.githubusercontent.com/albahnsen/MIAD_ML_and_NLP/main/datasets/Tweets.zip', index_col=0)\n",
    "\n",
    "# Visualización dataset\n",
    "tweets.head()"
   ]
  },
  {
   "cell_type": "code",
   "execution_count": 4,
   "metadata": {},
   "outputs": [
    {
     "data": {
      "text/plain": [
       "(14640, 14)"
      ]
     },
     "execution_count": 4,
     "metadata": {},
     "output_type": "execute_result"
    }
   ],
   "source": [
    "# Impresión tamaño del cojunto de datos\n",
    "tweets.shape"
   ]
  },
  {
   "cell_type": "markdown",
   "metadata": {},
   "source": [
    "### Análisis descriptivo"
   ]
  },
  {
   "cell_type": "code",
   "execution_count": 5,
   "metadata": {},
   "outputs": [
    {
     "data": {
      "text/plain": [
       "airline_sentiment\n",
       "negative    9178\n",
       "neutral     3099\n",
       "positive    2363\n",
       "Name: count, dtype: int64"
      ]
     },
     "execution_count": 5,
     "metadata": {},
     "output_type": "execute_result"
    }
   ],
   "source": [
    "# Cuenta de tweets por cada sentimiento\n",
    "tweets['airline_sentiment'].value_counts()"
   ]
  },
  {
   "cell_type": "code",
   "execution_count": 6,
   "metadata": {},
   "outputs": [
    {
     "data": {
      "text/plain": [
       "airline\n",
       "United            3822\n",
       "US Airways        2913\n",
       "American          2759\n",
       "Southwest         2420\n",
       "Delta             2222\n",
       "Virgin America     504\n",
       "Name: count, dtype: int64"
      ]
     },
     "execution_count": 6,
     "metadata": {},
     "output_type": "execute_result"
    }
   ],
   "source": [
    "# Cuenta de tweets por cada aerolínea\n",
    "tweets['airline'].value_counts()"
   ]
  },
  {
   "cell_type": "code",
   "execution_count": 7,
   "metadata": {},
   "outputs": [
    {
     "data": {
<<<<<<< Updated upstream
      "image/png": "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",
=======
      "image/png": "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",
>>>>>>> Stashed changes
      "text/plain": [
       "<Figure size 1000x600 with 1 Axes>"
      ]
     },
     "metadata": {},
     "output_type": "display_data"
    }
   ],
   "source": [
    "# Plot con cuenta de tweets por cada aerolínea y sentimiento\n",
    "pd.crosstab(index = tweets[\"airline\"],columns = tweets[\"airline_sentiment\"]).plot(kind='bar',figsize=(10, 6),alpha=0.5,rot=0,stacked=True,title=\"Sentiminetos por aerolínea\")\n",
    "plt.show()"
   ]
  },
  {
   "cell_type": "markdown",
   "metadata": {},
   "source": [
    "### Liberias y Variables de interés y predicción"
   ]
  },
  {
   "cell_type": "code",
   "execution_count": 8,
   "metadata": {},
   "outputs": [],
   "source": [
    "from sklearn.model_selection import train_test_split, cross_val_score\n",
    "from sklearn.feature_extraction.text import CountVectorizer, TfidfVectorizer\n",
    "from sklearn.ensemble import RandomForestClassifier\n",
    "from nltk.stem.snowball import SnowballStemmer\n",
<<<<<<< Updated upstream
    "from nltk.stem import WordNetLemmatizer\n",
    "from sklearn.metrics import accuracy_score"
=======
    "from nltk.stem import WordNetLemmatizer"
>>>>>>> Stashed changes
   ]
  },
  {
   "cell_type": "code",
   "execution_count": 9,
   "metadata": {},
   "outputs": [],
   "source": [
    "# Separación de variables predictoras (X) y de variable de interés (y)\n",
    "X = tweets['text']\n",
    "y = tweets['airline_sentiment'].map({'negative':-1,'neutral':0,'positive':1})"
   ]
  },
  {
   "cell_type": "code",
   "execution_count": 10,
   "metadata": {},
   "outputs": [],
   "source": [
    "# Separación de datos en set de entrenamiento y test\n",
    "X_train, X_test, y_train, y_test = train_test_split(X, y, test_size=0.33, random_state=42)"
   ]
  },
  {
   "cell_type": "markdown",
   "metadata": {},
   "source": [
    "### Punto 1 - Uso de CountVectorizer\n",
    "\n",
    "En la celda 1 creen un modelo de random forest con la libreria sklearn que prediga el sentimiento de los tweets usando los set de entrenamiento y test definidos anteriormente. Usen la función **CountVectorizer** y presenten el desempeño del modelo con la métrica del acurracy.\n",
    "\n",
    "Recuerden que el preprocesamiento que se haga sobre los datos de entrenamiento  (*.fit_transform()*) deben ser aplicado al set de test (*.transform()*)."
   ]
  },
  {
   "cell_type": "code",
<<<<<<< Updated upstream
   "execution_count": 11,
=======
   "execution_count": null,
>>>>>>> Stashed changes
   "metadata": {},
   "outputs": [],
   "source": [
    "# Celda 1\n"
   ]
  },
  {
   "cell_type": "markdown",
   "metadata": {},
   "source": [
    "### Punto 2 - Eliminación de Stopwords\n",
    "\n",
    "En la celda 2 creen un modelo de random forest con la libreria sklearn que prediga el sentimiento de los tweets usando los set de entrenamiento y test definidos anteriormente. Usen la función CountVectorizer, **eliminen stopwords** y presenten el desempeño del modelo con la métrica del acurracy.\n",
    "\n",
    "Recuerden que el preprocesamiento que se haga sobre los datos de entrenamiento  (*.fit_transform()*) deben ser aplicado al set de test (*.transform()*)."
   ]
  },
  {
   "cell_type": "code",
<<<<<<< Updated upstream
   "execution_count": 12,
=======
   "execution_count": 22,
>>>>>>> Stashed changes
   "metadata": {},
   "outputs": [
    {
     "name": "stdout",
     "output_type": "stream",
     "text": [
      "La cantidad de palabras en la matriz son \n",
      "11,777\n",
      "El accuracy del modelo es 76.18%\n"
     ]
    }
   ],
   "source": [
    "# Celda 2\n",
    "vect_sw = CountVectorizer(stop_words=\"english\")\n",
    "X_dtm_sw_train = vect_sw.fit_transform(X_train)\n",
    "X_dtm_1_test = vect_sw.transform(X_test)\n",
    "print(f\"La cantidad de palabras en la matriz son \\n{X_dtm_sw_train.shape[1]:,.0f}\")\n",
    "rf_sw = RandomForestClassifier(n_estimators=100, random_state=42)\n",
    "rf_sw.fit(X_dtm_sw_train, y_train)\n",
    "y_pred_sw = rf_sw.predict(X_dtm_1_test)\n",
    "print(f\"El accuracy del modelo es {rf_sw.score(X_dtm_1_test, y_test):.2%}\")"
   ]
  },
  {
   "cell_type": "markdown",
   "metadata": {},
   "source": [
    "### Punto 3 - Lematización con verbos\n",
    "\n",
    "En la celda 3 creen un modelo de random forest con la libreria sklearn que prediga el sentimiento de los tweets usando los set de entrenamiento y test definidos anteriormente. Usen la función CountVectorizer, **lematizen el texto con verbos** y presenten el desempeño del modelo con la métrica del acurracy.\n",
    "\n",
    "Recuerden que el preprocesamiento que se haga sobre los datos de entrenamiento  (*.fit_transform()*) deben ser aplicado al set de test (*.transform()*)."
   ]
  },
  {
   "cell_type": "code",
<<<<<<< Updated upstream
   "execution_count": 13,
=======
   "execution_count": 34,
>>>>>>> Stashed changes
   "metadata": {},
   "outputs": [
    {
     "name": "stderr",
     "output_type": "stream",
     "text": [
<<<<<<< Updated upstream
      "[nltk_data] Downloading package wordnet to C:\\Users\\Juanca\n",
      "[nltk_data]     Mejía\\AppData\\Roaming\\nltk_data...\n",
      "[nltk_data] Downloading package omw-1.4 to C:\\Users\\Juanca\n",
      "[nltk_data]     Mejía\\AppData\\Roaming\\nltk_data...\n"
=======
      "[nltk_data] Downloading package wordnet to\n",
      "[nltk_data]     C:\\Users\\sjaramillo\\AppData\\Roaming\\nltk_data...\n",
      "[nltk_data]   Package wordnet is already up-to-date!\n",
      "[nltk_data] Downloading package omw-1.4 to\n",
      "[nltk_data]     C:\\Users\\sjaramillo\\AppData\\Roaming\\nltk_data...\n",
      "[nltk_data]   Package omw-1.4 is already up-to-date!\n"
>>>>>>> Stashed changes
     ]
    }
   ],
   "source": [
    "import nltk\n",
    "from nltk.tokenize import WordPunctTokenizer\n",
    "from nltk.stem import WordNetLemmatizer\n",
    "nltk.download('wordnet')\n",
    "nltk.download('omw-1.4')\n",
    "\n",
    "wpt = WordPunctTokenizer()\n",
    "wordnet_lemmatizer = WordNetLemmatizer()\n"
   ]
  },
  {
   "cell_type": "code",
<<<<<<< Updated upstream
   "execution_count": 14,
=======
   "execution_count": 37,
>>>>>>> Stashed changes
   "metadata": {},
   "outputs": [
    {
     "name": "stdout",
     "output_type": "stream",
     "text": [
      "La cantidad de palabras en la matriz son \n",
<<<<<<< Updated upstream
      "10,981\n",
      "El accuracy del modelo es 77.42%\n"
=======
      "10,990\n",
      "El accuracy del modelo es 77.07%\n"
>>>>>>> Stashed changes
     ]
    }
   ],
   "source": [
    "def lemmatize_verbs(text):\n",
    "    tokens = wpt.tokenize(text)\n",
    "    lemmas = [wordnet_lemmatizer.lemmatize(tok, pos='v') for tok in tokens]\n",
    "    return \" \".join(lemmas)\n",
    "\n",
    "X_train_lem = X_train.apply(lemmatize_verbs)\n",
    "X_test_lem  = X_test.apply(lemmatize_verbs)\n",
    "\n",
    "vect_lem = CountVectorizer()\n",
    "X_dtm_lem_train = vect_lem.fit_transform(X_train_lem)\n",
    "X_dtm_lem_test  = vect_lem.transform(X_test_lem)\n",
    "\n",
    "print(f\"La cantidad de palabras en la matriz son \\n{X_dtm_lem_train.shape[1]:,.0f}\")\n",
    "\n",
    "vect_lem= CountVectorizer()\n",
    "X_dtm_lem_train = vect_lem.fit_transform(X_train_lem)\n",
    "X_dtm_lem_test  = vect_lem.transform(X_test_lem)\n",
    "rf_lem = RandomForestClassifier(n_estimators=100, random_state=42)\n",
    "rf_lem.fit(X_dtm_lem_train,y_train)\n",
    "y_pred_lem = rf_lem.predict(X_dtm_lem_test)\n",
    "print(f\"El accuracy del modelo es {rf_lem.score(X_dtm_lem_test, y_test):.2%}\")"
   ]
  },
  {
   "cell_type": "markdown",
   "metadata": {},
   "source": [
    "### Punto 4 - Multiples técnicas\n",
    "\n",
    "En la celda 4 creen un modelo de random forest con la libreria sklearn que prediga el sentimiento de los tweets usando los set de entrenamiento y test definidos anteriormente. Usen la función **CountVectorizer, eliminen stopwords, lematizen el texto con verbos** y presenten el desempeño del modelo con la métrica del acurracy.\n",
    "\n",
    "Recuerden que el preprocesamiento que se haga sobre los datos de entrenamiento  (*.fit_transform()*) deben ser aplicado al set de test (*.transform()*)."
   ]
  },
  {
   "cell_type": "code",
<<<<<<< Updated upstream
   "execution_count": 30,
   "metadata": {},
   "outputs": [
    {
     "name": "stdout",
     "output_type": "stream",
     "text": [
      "El accuracy del modelo es: 76.88 %\n"
     ]
    }
   ],
   "source": [
    "# Celda 4\n",
    "X_train_lema=X_train.apply(lemmatize_verbs)\n",
    "X_test_lema=X_test.apply(lemmatize_verbs)\n",
    "\n",
    "vector=CountVectorizer(stop_words='english')\n",
    "X_train_vect=vector.fit_transform(X_train_lema)\n",
    "X_test_vect=vector.transform(X_test_lema)\n",
    "\n",
    "rf_celda4=RandomForestClassifier(n_estimators=80, random_state=42)\n",
    "rf_celda4.fit(X_train_vect, y_train)\n",
    "y_pred_celda4=rf_celda4.predict(X_test_vect)\n",
    "\n",
    "metrica=accuracy_score(y_test, y_pred_celda4)\n",
    "metrica=metrica*100\n",
    "print(f\"El accuracy del modelo es: {metrica:.2f} %\")"
=======
   "execution_count": null,
   "metadata": {},
   "outputs": [],
   "source": [
    "# Celda 4\n"
>>>>>>> Stashed changes
   ]
  },
  {
   "cell_type": "markdown",
   "metadata": {},
   "source": [
    "### Punto 5 - Comparación y análisis de resultados\n",
    "\n",
    "En la celda 5 comparen los resultados obtenidos de los diferentes modelos (random forest) y comenten las ventajas del mejor modelo y las desventajas del modelo con el menor desempeño."
   ]
  },
  {
   "cell_type": "code",
<<<<<<< Updated upstream
   "execution_count": 16,
=======
   "execution_count": null,
>>>>>>> Stashed changes
   "metadata": {},
   "outputs": [],
   "source": [
    "# Celda 5\n"
   ]
  }
 ],
 "metadata": {
  "kernelspec": {
<<<<<<< Updated upstream
   "display_name": "Python 3 (ipykernel)",
=======
   "display_name": "General",
>>>>>>> Stashed changes
   "language": "python",
   "name": "python3"
  },
  "language_info": {
   "codemirror_mode": {
    "name": "ipython",
    "version": 3
   },
   "file_extension": ".py",
   "mimetype": "text/x-python",
   "name": "python",
   "nbconvert_exporter": "python",
   "pygments_lexer": "ipython3",
<<<<<<< Updated upstream
   "version": "3.12.4"
  }
 },
 "nbformat": 4,
 "nbformat_minor": 4
=======
   "version": "3.11.5"
  }
 },
 "nbformat": 4,
 "nbformat_minor": 2
>>>>>>> Stashed changes
}
